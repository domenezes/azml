{
 "cells": [
  {
   "cell_type": "code",
   "execution_count": 1,
   "metadata": {},
   "outputs": [
    {
     "name": "stdout",
     "output_type": "stream",
     "text": [
      "Azure ML SDK Version:  1.0.17\n"
     ]
    }
   ],
   "source": [
    "import azureml.core\n",
    "from azureml.core import Workspace\n",
    "\n",
    "#check core SDK version number\n",
    "print(\"Azure ML SDK Version: \", azureml.core.VERSION)"
   ]
  },
  {
   "cell_type": "code",
   "execution_count": 17,
   "metadata": {},
   "outputs": [
    {
     "name": "stdout",
     "output_type": "stream",
     "text": [
      "Found the config file in: C:\\Users\\dt\\notebooks\\MachineLearningNotebooks\\aml_config\\config.json\n",
      "workspace\teastus2\texmachina\teastus2\n"
     ]
    }
   ],
   "source": [
    "#load workspace configuration from the config.json file in the current folder\n",
    "ws = Workspace.from_config()\n",
    "print(ws.name, ws.location, ws.resource_group, ws.location, sep = '\\t')"
   ]
  },
  {
   "cell_type": "code",
   "execution_count": 26,
   "metadata": {},
   "outputs": [
    {
     "data": {
      "image/png": "[encoded data removed]",
      "text/plain": [
       "<Figure size 432x288 with 1 Axes>"
      ]
     },
     "metadata": {
      "needs_background": "light"
     },
     "output_type": "display_data"
    }
   ],
   "source": [
    "%matplotlib inline\n",
    "import numpy as np\n",
    "import matplotlib.pyplot as plt\n",
    "\n",
    "from azureml.core import Experiment\n",
    "exp = Experiment(workspace=ws, name='minimal')\n",
    "\n",
    "#start a run and start the logging service\n",
    "run = exp.start_logging()\n",
    "\n",
    "#log a single  number\n",
    "run.log('the answer', 42)\n",
    "\n",
    "#log a list (Fibonacci numbers)\n",
    "run.log_list('Fibonacci', [1, 1, 2, 3, 5, 8, 13, 21, 34, 55])\n",
    "\n",
    "#graph\n",
    "x = np.linspace(0, 2 * np.pi, 20)\n",
    "y = np.sin(x)\n",
    "yp = None\n",
    "xi = np.linspace(x[0], x[-1], 100)\n",
    "yi = np.interp(xi, x, y, yp)\n",
    "\n",
    "fig, ax = plt.subplots()\n",
    "ax.plot(x, y, 'o', xi, yi, '.')\n",
    "plt.show()\n",
    "\n",
    "#log graph\n",
    "run.log_image('plot', path=None, plot=fig)\n",
    "\n",
    "#finish the run\n",
    "run.complete()"
   ]
  },
  {
   "cell_type": "code",
   "execution_count": 46,
   "metadata": {},
   "outputs": [
    {
     "name": "stdout",
     "output_type": "stream",
     "text": [
      "[15. 17. 19.]\n",
      "[15. 17. 19.]\n",
      "Accuracy 1.0\n",
      "Registering model mini\n"
     ]
    }
   ],
   "source": [
    "import os\n",
    "import numpy as np\n",
    "from sklearn.linear_model import LinearRegression\n",
    "from sklearn.externals import joblib\n",
    "from azureml.core.model import Model\n",
    "from azureml.core import Experiment\n",
    "exp = Experiment(workspace=ws, name='mini')\n",
    "\n",
    "run = exp.start_logging()\n",
    "\n",
    "f = lambda x: x+13\n",
    "\n",
    "X_train = np.arange( 1.0, 1000.0, 2.0 )\n",
    "y_train = f( X_train )\n",
    "X_test = np.array ( [ 2.0, 4.0, 6.0 ] )\n",
    "y_test = f( X_test )\n",
    "\n",
    "clf = LinearRegression()\n",
    "clf.fit( X_train.reshape( -1, 1 ), y_train )\n",
    "\n",
    "y_hat = clf.predict( X_test.reshape( -1, 1 ) )\n",
    "\n",
    "#print(X_train)\n",
    "#print(y_train)\n",
    "print(y_test)\n",
    "print(y_hat)\n",
    "\n",
    "acc = np.average( ( y_hat - y_test ) < .00000001 ) \n",
    "print( 'Accuracy', acc )\n",
    "run.log( 'Accuracy', acc )\n",
    "\n",
    "os.makedirs( 'outputs', exist_ok=True )\n",
    "# note file saved in the outputs folder is automatically uploaded into experiment record\n",
    "joblib.dump( value=clf, filename='outputs/mini.pkl' )\n",
    "\n",
    "model = Model.register( model_path='outputs/mini.pkl',\n",
    "                        model_name='mini',\n",
    "                        tags={ \"data\": 'fabricated', 'model': 'regression' },\n",
    "                        description='basic regression',\n",
    "                        workspace=ws )\n",
    "\n",
    "run.complete()"
   ]
  },
  {
   "cell_type": "code",
   "execution_count": 48,
   "metadata": {},
   "outputs": [
    {
     "name": "stdout",
     "output_type": "stream",
     "text": [
      "Writing score.py\n"
     ]
    }
   ],
   "source": [
    "%%writefile score.py\n",
    "\n",
    "#run in a separate folder -- so no name collisions\n",
    "\n",
    "import json\n",
    "import numpy as np\n",
    "import os\n",
    "import pickle\n",
    "from sklearn.externals import joblib\n",
    "from sklearn.linear_model import LinearRegression\n",
    "\n",
    "from azureml.core.model import Model\n",
    "\n",
    "def init():\n",
    "    global model\n",
    "    # retrieve the path to the model file using the model name\n",
    "    model_path = Model.get_model_path('mini')\n",
    "    model = joblib.load(model_path)\n",
    "\n",
    "def run(raw_data):\n",
    "    data = np.array(json.loads(raw_data)['data'])\n",
    "    # make prediction\n",
    "    y_hat = model.predict(data)\n",
    "    # you can return any data type as long as it is JSON-serializable\n",
    "    return y_hat.tolist()"
   ]
  },
  {
   "cell_type": "code",
   "execution_count": 49,
   "metadata": {},
   "outputs": [],
   "source": [
    "from azureml.core.conda_dependencies import CondaDependencies \n",
    "\n",
    "myenv = CondaDependencies()\n",
    "myenv.add_conda_package(\"scikit-learn\")\n",
    "\n",
    "with open(\"myenv.yml\",\"w\") as f:\n",
    "    f.write(myenv.serialize_to_string())"
   ]
  },
  {
   "cell_type": "code",
   "execution_count": 50,
   "metadata": {},
   "outputs": [],
   "source": [
    "from azureml.core.webservice import AciWebservice\n",
    "\n",
    "aciconfig = AciWebservice.deploy_configuration(cpu_cores=1, \n",
    "                                               memory_gb=1, \n",
    "                                               tags={\"data\": \"fabricated\",  \"method\" : \"sklearn\"}, \n",
    "                                               description='Predict linear regression with sklearn')"
   ]
  },
  {
   "cell_type": "code",
   "execution_count": 51,
   "metadata": {},
   "outputs": [
    {
     "name": "stdout",
     "output_type": "stream",
     "text": [
      "Creating image\n",
      "Image creation operation finished for image mini-svc:1, operation \"Succeeded\"\n",
      "Creating service\n",
      "Running..................\n",
      "SucceededACI service creation operation finished, operation \"Succeeded\"\n",
      "Wall time: 7min 18s\n"
     ]
    }
   ],
   "source": [
    "%%time\n",
    "from azureml.core.webservice import Webservice\n",
    "from azureml.core.image import ContainerImage\n",
    "\n",
    "# configure the image\n",
    "image_config = ContainerImage.image_configuration(execution_script=\"score.py\", \n",
    "                                                  runtime=\"python\", \n",
    "                                                  conda_file=\"myenv.yml\")\n",
    "\n",
    "#model needs to be the registered model, from above, i believe\n",
    "\n",
    "service = Webservice.deploy_from_model(workspace=ws,\n",
    "                                       name='mini-svc',\n",
    "                                       deployment_config=aciconfig,\n",
    "                                       models=[model],\n",
    "                                       image_config=image_config)\n",
    "\n",
    "service.wait_for_deployment(show_output=True)"
   ]
  },
  {
   "cell_type": "code",
   "execution_count": 55,
   "metadata": {},
   "outputs": [
    {
     "name": "stdout",
     "output_type": "stream",
     "text": [
      "POST to url http://20.185.99.15:80/score\n",
      "truth:  15.0\n",
      "prediction: [14.999999999999773]\n"
     ]
    }
   ],
   "source": [
    "import requests\n",
    "\n",
    "input_data = \"{\\\"data\\\": [ [ \" + str( 2.0 ) + \"] ] }\"\n",
    "\n",
    "headers = {'Content-Type':'application/json'}\n",
    "\n",
    "# for AKS deployment you'd need to the service key in the header as well\n",
    "# api_key = service.get_key()\n",
    "# headers = {'Content-Type':'application/json',  'Authorization':('Bearer '+ api_key)} \n",
    "\n",
    "resp = requests.post( service.scoring_uri, input_data, headers=headers )\n",
    "\n",
    "print( \"POST to url\", service.scoring_uri )\n",
    "#print( \"input data:\", input_data )\n",
    "print(\"truth: \", 15.0 )\n",
    "print(\"prediction:\", resp.text)"
   ]
  },
  {
   "cell_type": "code",
   "execution_count": 56,
   "metadata": {},
   "outputs": [],
   "source": [
    "service.delete()"
   ]
  }
 ],
 "metadata": {
  "kernelspec": {
   "display_name": "Python [conda env:aml]",
   "language": "python",
   "name": "conda-env-aml-py"
  },
  "language_info": {
   "codemirror_mode": {
    "name": "ipython",
    "version": 3
   },
   "file_extension": ".py",
   "mimetype": "text/x-python",
   "name": "python",
   "nbconvert_exporter": "python",
   "pygments_lexer": "ipython3",
   "version": "3.6.8"
  }
 },
 "nbformat": 4,
 "nbformat_minor": 2
}
